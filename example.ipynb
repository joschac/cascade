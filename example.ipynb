{
 "cells": [
  {
   "cell_type": "code",
   "execution_count": null,
   "metadata": {},
   "outputs": [],
   "source": [
    "import pandas as pd\n",
    "import numpy as np\n",
    "\n",
    "from src.main import cascade\n",
    "from example_data import preprocess"
   ]
  },
  {
   "cell_type": "code",
   "execution_count": null,
   "metadata": {},
   "outputs": [],
   "source": [
    "df, cat_codes = preprocess.get_adl(\"example_data/OrdonezA_ADLs.txt\")"
   ]
  },
  {
   "cell_type": "code",
   "execution_count": null,
   "metadata": {},
   "outputs": [],
   "source": [
    "estimated_graph = cascade(df, allow_instant=True, max_delay=1000)"
   ]
  },
  {
   "cell_type": "code",
   "execution_count": null,
   "metadata": {},
   "outputs": [],
   "source": [
    "import networkx as nx\n",
    "import matplotlib.pyplot as plt\n",
    "\n",
    "\n",
    "\n",
    "names = dict(enumerate(map(lambda x: x.replace(\"_\", \"\\n\"), cat_codes.cat.categories)))\n",
    "G = nx.from_numpy_array(estimated_graph, create_using=nx.DiGraph)\n",
    "# Rename nodes in the graph\n",
    "new_names = {node: names[node] for node in G.nodes}\n",
    "G = nx.relabel_nodes(G, new_names)\n",
    "\n",
    "pos = nx.circular_layout(G)  # Increase the scale value to increase the space between nodes\n",
    "nx.draw(G, with_labels=True, arrowsize=20, pos=pos)\n",
    "plt.show()"
   ]
  },
  {
   "cell_type": "markdown",
   "metadata": {},
   "source": [
    "`return_alignment=True` returns, in addition, a DataFrame with the assigned cause of each event. \n",
    "- `cause_event` is the type of the cause event\n",
    "- `delay` number of time-steps between cause and effect \n",
    "- `cause_index` is the DataFrame index of the cause"
   ]
  },
  {
   "cell_type": "code",
   "execution_count": null,
   "metadata": {},
   "outputs": [],
   "source": [
    "estimated_graph , aligned = cascade(df, allow_instant=True, max_delay=1000, return_alignment=True)\n",
    "aligned"
   ]
  }
 ],
 "metadata": {
  "kernelspec": {
   "display_name": "venv",
   "language": "python",
   "name": "python3"
  },
  "language_info": {
   "codemirror_mode": {
    "name": "ipython",
    "version": 3
   },
   "file_extension": ".py",
   "mimetype": "text/x-python",
   "name": "python",
   "nbconvert_exporter": "python",
   "pygments_lexer": "ipython3",
   "version": "3.10.8"
  }
 },
 "nbformat": 4,
 "nbformat_minor": 2
}
